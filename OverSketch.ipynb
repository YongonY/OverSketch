{
 "cells": [
  {
   "cell_type": "code",
   "execution_count": 248,
   "metadata": {},
   "outputs": [],
   "source": [
    "\"\"\"\n",
    "This function implements OverSketch from \n",
    "https://people.eecs.berkeley.edu/~vipul_gupta/oversketch.pdf\n",
    "It calculates A*B approximately using sketching on AWS Lambda.\n",
    "Takes arguments: \n",
    "BigMatrix 'A' \n",
    "BigMatrix 'B' \n",
    "sketch dimension 'd', \n",
    "straggler threshold 'thres', default 0.95 \n",
    "\n",
    "BigMatrix objects A and B should satisfy:\n",
    "-A.shard_sizes[0] = B.shard_sizes[1] = b, where b is the block-size\n",
    "-b divides d\n",
    "-Columns and rows of A and B, respectively, are unsharded\n",
    "\n",
    "Returns: A numpywren BigMatrix that contains the sketched product of A and B in S3\n",
    "\"\"\"\n",
    "\n",
    "import numpy as np\n",
    "import pywren\n",
    "import time\n",
    "import numpywren\n",
    "from numpywren import matrix, matrix_utils\n",
    "from numpywren import binops\n",
    "from numpywren.matrix_init import shard_matrix"
   ]
  },
  {
   "cell_type": "code",
   "execution_count": 320,
   "metadata": {},
   "outputs": [],
   "source": [
    "m = 2000\n",
    "n = 10000\n",
    "l = m\n",
    "b = 1000\n",
    "d = int(4*b)\n",
    "thres = 0.95"
   ]
  },
  {
   "cell_type": "code",
   "execution_count": 321,
   "metadata": {},
   "outputs": [],
   "source": [
    "A_loc = np.asarray(range(m*n))\n",
    "A_loc = A_loc.reshape(m,n)"
   ]
  },
  {
   "cell_type": "code",
   "execution_count": 322,
   "metadata": {},
   "outputs": [
    {
     "data": {
      "text/plain": [
       "<numpywren.matrix.BigMatrix at 0x7f51916582b0>"
      ]
     },
     "execution_count": 322,
     "metadata": {},
     "output_type": "execute_result"
    }
   ],
   "source": [
    "A = matrix.BigMatrix(\"oversketch_A_{0}_{1}_{2}\".format(m, n, b), shape=(m, n), shard_sizes=(b, n), write_header=True)\n",
    "shard_matrix(A, A_loc)"
   ]
  },
  {
   "cell_type": "code",
   "execution_count": 323,
   "metadata": {},
   "outputs": [
    {
     "data": {
      "text/plain": [
       "[]"
      ]
     },
     "execution_count": 323,
     "metadata": {},
     "output_type": "execute_result"
    }
   ],
   "source": [
    "A.block_idxs_not_exist"
   ]
  },
  {
   "cell_type": "code",
   "execution_count": 324,
   "metadata": {},
   "outputs": [],
   "source": [
    "B = A.T"
   ]
  },
  {
   "cell_type": "code",
   "execution_count": 325,
   "metadata": {},
   "outputs": [],
   "source": [
    "m = A.shape[0]\n",
    "n = A.shape[1]\n",
    "l = B.shape[1]\n",
    "b = A.shard_sizes[0]"
   ]
  },
  {
   "cell_type": "code",
   "execution_count": 326,
   "metadata": {},
   "outputs": [],
   "source": [
    "assert (d % b == 0)\n",
    "assert (b == B.shard_sizes[1])"
   ]
  },
  {
   "cell_type": "code",
   "execution_count": 327,
   "metadata": {},
   "outputs": [],
   "source": [
    "N = int(d/b)"
   ]
  },
  {
   "cell_type": "code",
   "execution_count": 328,
   "metadata": {},
   "outputs": [],
   "source": [
    "sketch_A = matrix.BigMatrix(\"sketch_A_{0}_{1}\".format(m, d), shape=(m, d), shard_sizes=(b, b))\n",
    "sketch_BT = matrix.BigMatrix(\"sketch_B_{0}_{1}\".format(l, d), shape=(l, d), shard_sizes=(b, b))"
   ]
  },
  {
   "cell_type": "code",
   "execution_count": 329,
   "metadata": {},
   "outputs": [],
   "source": [
    "hashes = np.random.randint(0, b, size=(N, n))\n",
    "flips = np.random.choice([-1,1], size=(N, n))"
   ]
  },
  {
   "cell_type": "code",
   "execution_count": 330,
   "metadata": {},
   "outputs": [],
   "source": [
    "def OverSketchMatrix(id, X, hashes, flips, b, sketch):\n",
    "    \"\"\"\n",
    "    Calculates OverSketch AS for a row-block of a fat matrix A with block-size b\n",
    "    \"\"\"\n",
    "    x = id[0]\n",
    "    y = id[1]\n",
    "    A = X.get_block(x,0)\n",
    "    m,n = A.shape\n",
    "    hash_local = hashes[y,:]\n",
    "    flip_local = flips[y,:]\n",
    "    sketch_block = np.zeros((m, b))\n",
    "    for i in range(n):\n",
    "        sketch_block[:, hash_local[i]] += flip_local[i]*A[:,i]\n",
    "    sketch.put_block(sketch_block/np.sqrt(N), x, y)\n",
    "    return 0"
   ]
  },
  {
   "cell_type": "code",
   "execution_count": 331,
   "metadata": {},
   "outputs": [],
   "source": [
    "pwex = pywren.lambda_executor()\n",
    "t1 = time.time()\n",
    "futuresA = pwex.map(lambda x: OverSketchMatrix(x, A, hashes, flips, b, sketch_A), sketch_A.block_idxs)\n",
    "futuresB = pwex.map(lambda x: OverSketchMatrix(x, B.T, hashes, flips, b, sketch_BT), sketch_BT.block_idxs)"
   ]
  },
  {
   "cell_type": "code",
   "execution_count": 332,
   "metadata": {
    "scrolled": true
   },
   "outputs": [
    {
     "name": "stdout",
     "output_type": "stream",
     "text": [
      "Sketching time 7.129902362823486\n"
     ]
    }
   ],
   "source": [
    "fs_donesA = pywren.wait(futuresA, 2)[0]\n",
    "fs_donesB = pywren.wait(futuresB, 2)[0]\n",
    "while len(fs_donesA)<thres*len(futuresA) and len(fs_donesB)<thres*len(futuresB):\n",
    "    fs_donesA = pywren.wait(futuresA, 2)[0]\n",
    "    fs_donesB = pywren.wait(futuresB, 2)[0]\n",
    "    # print (len(fs_donesA), len(fs_donesB))\n",
    "print(\"Sketching time\", time.time() - t1)"
   ]
  },
  {
   "cell_type": "code",
   "execution_count": 333,
   "metadata": {},
   "outputs": [],
   "source": [
    "## Computation phase\n",
    "def blockMatMul(A, B, tensorAB, id):\n",
    "    \"\"\"\n",
    "    Multiplies A and B.T in a blocked fashion\n",
    "    \"\"\"\n",
    "    i = id[0]\n",
    "    j = id[1]\n",
    "    k = id[2]\n",
    "    print(i,j,k)\n",
    "    X = A.get_block(i,k)\n",
    "    Y = B.get_block(j,k)\n",
    "    tensorAB[k].put_block(X.dot(Y.T), i, j)\n",
    "    return 0"
   ]
  },
  {
   "cell_type": "code",
   "execution_count": 334,
   "metadata": {},
   "outputs": [],
   "source": [
    "tensorAB = []\n",
    "for x in range(N):\n",
    "    tensorAB.append(matrix.BigMatrix(\"AxB_outer_{0}_{1}_{2}\".format(m, l, x), shape=(m, l), shard_sizes=(b, b)))"
   ]
  },
  {
   "cell_type": "code",
   "execution_count": 335,
   "metadata": {},
   "outputs": [],
   "source": [
    "computeArr = [(i,j,k) for (i,k) in sketch_A.block_idxs for j in sketch_BT._block_idxs(0)]"
   ]
  },
  {
   "cell_type": "code",
   "execution_count": 336,
   "metadata": {},
   "outputs": [
    {
     "name": "stdout",
     "output_type": "stream",
     "text": [
      "Computation time 46.33478307723999\n"
     ]
    }
   ],
   "source": [
    "t1 = time.time()\n",
    "futures = pwex.map(lambda x: blockMatMul(sketch_A, sketch_BT, tensorAB, x), computeArr)\n",
    "fs_dones = pywren.wait(futures, 2)[0]\n",
    "while len(fs_dones)<thres*len(futures):\n",
    "    fs_dones = pywren.wait(futures, 2)[0]\n",
    "print(\"Computation time\", time.time() - t1)"
   ]
  },
  {
   "cell_type": "code",
   "execution_count": 337,
   "metadata": {},
   "outputs": [
    {
     "name": "stdout",
     "output_type": "stream",
     "text": [
      "0 0 0\n"
     ]
    },
    {
     "data": {
      "text/plain": [
       "0"
      ]
     },
     "execution_count": 337,
     "metadata": {},
     "output_type": "execute_result"
    }
   ],
   "source": [
    "blockMatMul(sketch_A, sketch_BT, tensorAB, (0,0,0))"
   ]
  },
  {
   "cell_type": "code",
   "execution_count": 338,
   "metadata": {},
   "outputs": [],
   "source": [
    "AB = matrix.BigMatrix(\"AxB_{0}_{1}\".format(m, l), shape=(m, l), shard_sizes=(b, b))"
   ]
  },
  {
   "cell_type": "code",
   "execution_count": 339,
   "metadata": {},
   "outputs": [],
   "source": [
    "reduceArr = [(i,j) for i in sketch_A._block_idxs(0) for j in sketch_BT._block_idxs(0)]"
   ]
  },
  {
   "cell_type": "code",
   "execution_count": 340,
   "metadata": {},
   "outputs": [],
   "source": [
    "## Reduction phase\n",
    "def blockMatMulReduction(tensorAB, AB, id):\n",
    "    \"\"\"\n",
    "    Reduces the output from computation phase to get A*B\n",
    "    \"\"\"\n",
    "    i = id[0]\n",
    "    j = id[1]\n",
    "    X = None\n",
    "    for k in range(N):\n",
    "        if X is None:\n",
    "            try:\n",
    "                X = tensorAB[k].get_block(i,j)\n",
    "            except Exception as e:\n",
    "                print(e)\n",
    "                pass\n",
    "        else:\n",
    "            try:\n",
    "                X = X + tensorAB[k].get_block(i,j)\n",
    "            except Exception as e:\n",
    "                print(e)\n",
    "                pass\n",
    "    AB.put_block(X, i, j)  \n",
    "    return 0"
   ]
  },
  {
   "cell_type": "code",
   "execution_count": 341,
   "metadata": {},
   "outputs": [
    {
     "name": "stdout",
     "output_type": "stream",
     "text": [
      "Reduction time 6.067621469497681\n"
     ]
    }
   ],
   "source": [
    "t1 = time.time()\n",
    "futures_red = pwex.map(lambda x: blockMatMulReduction(tensorAB, AB, x), reduceArr)\n",
    "fs_dones = pywren.wait(futures_red)[0]\n",
    "print(\"Reduction time\", time.time() - t1)"
   ]
  },
  {
   "cell_type": "code",
   "execution_count": 342,
   "metadata": {},
   "outputs": [],
   "source": [
    "c = AB.numpy()"
   ]
  },
  {
   "cell_type": "code",
   "execution_count": 343,
   "metadata": {},
   "outputs": [],
   "source": [
    "aaT = A_loc.dot(A_loc.T)"
   ]
  },
  {
   "cell_type": "code",
   "execution_count": 344,
   "metadata": {},
   "outputs": [
    {
     "data": {
      "text/plain": [
       "0.5774055612404048"
      ]
     },
     "execution_count": 344,
     "metadata": {},
     "output_type": "execute_result"
    }
   ],
   "source": [
    "np.linalg.norm(aaT-c, ord='fro')/np.linalg.norm(aaT,ord='fro')"
   ]
  },
  {
   "cell_type": "code",
   "execution_count": 345,
   "metadata": {},
   "outputs": [
    {
     "data": {
      "text/plain": [
       "[]"
      ]
     },
     "execution_count": 345,
     "metadata": {},
     "output_type": "execute_result"
    }
   ],
   "source": [
    "sketch_A.block_idxs_not_exist"
   ]
  },
  {
   "cell_type": "code",
   "execution_count": 346,
   "metadata": {},
   "outputs": [],
   "source": [
    "e = sketch_A.numpy()"
   ]
  },
  {
   "cell_type": "code",
   "execution_count": 347,
   "metadata": {},
   "outputs": [
    {
     "data": {
      "text/plain": [
       "(2000, 4000)"
      ]
     },
     "execution_count": 347,
     "metadata": {},
     "output_type": "execute_result"
    }
   ],
   "source": [
    "e.shape"
   ]
  },
  {
   "cell_type": "code",
   "execution_count": 348,
   "metadata": {},
   "outputs": [
    {
     "data": {
      "text/plain": [
       "0.002796590690059316"
      ]
     },
     "execution_count": 348,
     "metadata": {},
     "output_type": "execute_result"
    }
   ],
   "source": [
    "np.linalg.norm(aaT-e.dot(e.T), ord='fro')/np.linalg.norm(aaT,ord='fro')"
   ]
  },
  {
   "cell_type": "code",
   "execution_count": 349,
   "metadata": {},
   "outputs": [],
   "source": [
    "ee = sketch_BT.numpy()"
   ]
  },
  {
   "cell_type": "code",
   "execution_count": 350,
   "metadata": {},
   "outputs": [
    {
     "data": {
      "text/plain": [
       "0.002796590690059316"
      ]
     },
     "execution_count": 350,
     "metadata": {},
     "output_type": "execute_result"
    }
   ],
   "source": [
    "np.linalg.norm(aaT-e.dot(ee.T), ord='fro')/np.linalg.norm(aaT,ord='fro')"
   ]
  },
  {
   "cell_type": "code",
   "execution_count": 351,
   "metadata": {},
   "outputs": [],
   "source": [
    "def count_sketch(A, d):\n",
    "    \"\"\"\n",
    "    Given a np matrix A of dimension nxm, and dimension d, \n",
    "    performs the count sketch algorithm on A and \n",
    "    returns S*A, a matrix of dimension dxm\n",
    "    \"\"\"\n",
    "    n, m = np.shape(A)\n",
    "    sketched_mtx = np.zeros((d, m))\n",
    "    hashes = np.random.randint(0, d, size=(1, n))\n",
    "    flips = np.random.choice([-1,1], size=(1, n))\n",
    "    \n",
    "    for i in range(n):\n",
    "        sketched_mtx[hashes[0, i], :] += flips[0, i]*A[i, :]\n",
    "    return sketched_mtx"
   ]
  },
  {
   "cell_type": "code",
   "execution_count": 352,
   "metadata": {},
   "outputs": [],
   "source": [
    "SAT = count_sketch(A_loc.T, d)"
   ]
  },
  {
   "cell_type": "code",
   "execution_count": 353,
   "metadata": {},
   "outputs": [
    {
     "data": {
      "text/plain": [
       "0.005207767905716421"
      ]
     },
     "execution_count": 353,
     "metadata": {},
     "output_type": "execute_result"
    }
   ],
   "source": [
    "np.linalg.norm(aaT-SAT.T.dot(SAT))/(np.linalg.norm(aaT))"
   ]
  },
  {
   "cell_type": "code",
   "execution_count": 319,
   "metadata": {},
   "outputs": [
    {
     "name": "stdout",
     "output_type": "stream",
     "text": [
      "[NbConvertApp] Converting notebook OverSketch.ipynb to script\n",
      "[NbConvertApp] Writing 5693 bytes to OverSketch.py\n"
     ]
    }
   ],
   "source": [
    "!jupyter nbconvert --to script OverSketch.ipynb"
   ]
  },
  {
   "cell_type": "code",
   "execution_count": null,
   "metadata": {},
   "outputs": [],
   "source": []
  }
 ],
 "metadata": {
  "kernelspec": {
   "display_name": "Python 3",
   "language": "python",
   "name": "python3"
  },
  "language_info": {
   "codemirror_mode": {
    "name": "ipython",
    "version": 3
   },
   "file_extension": ".py",
   "mimetype": "text/x-python",
   "name": "python",
   "nbconvert_exporter": "python",
   "pygments_lexer": "ipython3",
   "version": "3.6.5"
  }
 },
 "nbformat": 4,
 "nbformat_minor": 2
}
